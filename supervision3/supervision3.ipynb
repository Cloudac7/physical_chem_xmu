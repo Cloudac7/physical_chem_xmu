{
 "cells": [
  {
   "cell_type": "markdown",
   "metadata": {},
   "source": [
    "# Supervision 3: Statistical Thermodynamics\n",
    "\n",
    "## Problem set"
   ]
  },
  {
   "cell_type": "markdown",
   "metadata": {},
   "source": [
    "### 1"
   ]
  },
  {
   "cell_type": "code",
   "execution_count": 1,
   "metadata": {},
   "outputs": [
    {
     "name": "stdout",
     "output_type": "stream",
     "text": [
      "Weight: 84\n",
      "After gap doubling: 20\n"
     ]
    },
    {
     "data": {
      "image/png": "[encoded data removed]",
      "text/plain": [
       "<Figure size 432x288 with 1 Axes>"
      ]
     },
     "metadata": {},
     "output_type": "display_data"
    }
   ],
   "source": [
    "import matplotlib.pyplot as plt\n",
    "%matplotlib inline\n",
    "from itertools import product\n",
    "\n",
    "energy_level = list(range(7))\n",
    "combs = product(energy_level, repeat=4)\n",
    "sums = [sum(x) for x in combs]\n",
    "count = sum(list(x == 6 for x in sums))\n",
    "print(\"Weight: {}\".format(count))\n",
    "plt.hist(sums, bins=100)\n",
    "\n",
    "# double the energy gap\n",
    "energy_level_double = [x*2 for x in energy_level]\n",
    "combs = product(energy_level_double, repeat=4)\n",
    "sums = [sum(x) for x in combs]\n",
    "count = sum(list(x == 6 for x in sums))\n",
    "print(\"After gap doubling: {}\".format(count))\n",
    "\n",
    "plt.hist(sums, bins=100)\n",
    "plt.show()"
   ]
  },
  {
   "cell_type": "markdown",
   "metadata": {},
   "source": [
    "### 2\n",
    "Easy proof and\n",
    "$$\\Delta S = C_V \\left( \\frac {\\delta T}{T} \\right) ^2 \\ (\\delta T \\text{ is small})$$\n",
    "remember that we have\n",
    "$$\\frac {P_\\text{init}}{P_\\text{final}} = exp \\left( \\frac{-\\Delta S}{k} \\right)$$"
   ]
  },
  {
   "cell_type": "code",
   "execution_count": 2,
   "metadata": {},
   "outputs": [
    {
     "name": "stdout",
     "output_type": "stream",
     "text": [
      "delta_S: 2.7777777777777783e-06\n",
      "P: 0.0 (exp(-2.0128824476650566e+17))\n",
      "delta_S2: 9.53270228499535e-23\n",
      "delta_T2: 5.858133510426616e-10\n"
     ]
    }
   ],
   "source": [
    "import math\n",
    "\n",
    "k = 1.38e-23 # Boltzman constant\n",
    "T = 300\n",
    "delta_T =  0.1\n",
    "C_V = 25\n",
    "\n",
    "delta_S = C_V * (delta_T / T) ** 2\n",
    "print(\"delta_S: {}\".format(delta_S))\n",
    "\n",
    "P = math.exp(-delta_S / k)\n",
    "print(\"P: {} (exp({}))\".format(P, -delta_S / k))\n",
    "\n",
    "# if P2 = 0.001\n",
    "P2 = 0.001\n",
    "delta_S2 = - math.log(P2) * k\n",
    "print(\"delta_S2: {}\".format(delta_S2))\n",
    "delta_T2 = math.sqrt(delta_S2 / C_V) * T\n",
    "print(\"delta_T2: {}\".format(delta_T2))"
   ]
  },
  {
   "cell_type": "markdown",
   "metadata": {},
   "source": [
    "### 3"
   ]
  },
  {
   "cell_type": "code",
   "execution_count": 3,
   "metadata": {},
   "outputs": [
    {
     "name": "stdout",
     "output_type": "stream",
     "text": [
      "E_m: 0, Weight: 28\n",
      "E_m: 1, Weight: 21\n",
      "E_m: 2, Weight: 15\n",
      "E_m: 3, Weight: 10\n",
      "E_m: 4, Weight: 6\n",
      "E_m: 5, Weight: 3\n",
      "E_m: 6, Weight: 1\n"
     ]
    },
    {
     "data": {
      "text/plain": [
       "[<matplotlib.lines.Line2D at 0x146dce82e80>]"
      ]
     },
     "execution_count": 3,
     "metadata": {},
     "output_type": "execute_result"
    },
    {
     "data": {
      "image/png": "[encoded data removed]",
      "text/plain": [
       "<Figure size 432x288 with 1 Axes>"
      ]
     },
     "metadata": {},
     "output_type": "display_data"
    }
   ],
   "source": [
    "import numpy as np\n",
    "\n",
    "energy_level = list(range(7))\n",
    "combs = product(energy_level, repeat=3)\n",
    "sums = [sum(x) for x in combs]\n",
    "# Weights when E_m = 0, 1, 2, ...,6\n",
    "weights = []\n",
    "for E_m in range(7):\n",
    "    count = sum(list(x == 6 - E_m for x in sums))\n",
    "    print(\"E_m: {}, Weight: {}\".format(E_m, count))\n",
    "    weights.append(count)\n",
    "P_m = np.array(weights) / sum(np.array(weights))\n",
    "\n",
    "# print(P_m)\n",
    "# plt.plot(list(range(7)), P_m, 'x')\n",
    "plt.ylabel('ln(P_m)')\n",
    "plt.xlabel('E_m')\n",
    "plt.plot(np.array(list(range(7))), np.log(P_m), 'x')"
   ]
  },
  {
   "cell_type": "markdown",
   "metadata": {},
   "source": [
    "### 4\n",
    "#### (a)\n",
    "$$q = \\sum_i exp\\left( \\frac{-\\epsilon_i}{kT} \\right)$$"
   ]
  },
  {
   "cell_type": "markdown",
   "metadata": {},
   "source": [
    "### 7 \n",
    "#### (a)\n",
    "$$E_n = \\frac {n^2 h^2}{8 m a^2}$$\n",
    "$$q_\\text{trans, 1D} = \\left( \\frac{2\\pi m k T}{h^2}\\right) ^ {1/2} a = \\frac{a}{\\Lambda}$$\n",
    "#### (c)\n",
    "$$q_\\text{trans, 3D} = \\left( \\frac{2\\pi m k T}{h^2}\\right) ^ {3/2} V = V/\\Lambda^3$$"
   ]
  },
  {
   "cell_type": "code",
   "execution_count": 4,
   "metadata": {},
   "outputs": [
    {
     "name": "stdout",
     "output_type": "stream",
     "text": [
      "thermal_wavelength: 1.9109772345704417e-11m\n",
      "Molar volume: 0.02477721m^3/mol\n",
      "q_3d: 3.550470116879316e+30\n"
     ]
    }
   ],
   "source": [
    "# (b)\n",
    "h = 6.626e-34 # Planck constant m^2kg/s\n",
    "m = 28.01e-3 / 6.02e23\n",
    "T = 298\n",
    "thermal_wavelength = math.sqrt(h**2/(2*math.pi*m*k*T))\n",
    "print(\"thermal_wavelength: {}m\".format(thermal_wavelength))\n",
    "\n",
    "# (c)\n",
    "R = 8.3145\n",
    "p = 1e5 # N/m^2\n",
    "V_m = R * T / p\n",
    "print(\"Molar volume: {}m^3/mol\".format(V_m))\n",
    "q_3d = V_m / math.pow(thermal_wavelength, 3) # 1 mole\n",
    "print(\"q_3d: {}\".format(q_3d))"
   ]
  },
  {
   "cell_type": "markdown",
   "metadata": {},
   "source": [
    "### 8\n",
    "#### (a)\n",
    "Rotational partition function for diatomic molecule\n",
    "Given that for rigid motor:\n",
    "$$E_J = BJ(J+1)$$\n",
    "rotational constant\n",
    "$$B = \\frac{\\hbar ^2}{2I}$$\n",
    "moment of inertia\n",
    "$$I = \\mu R^2 = \\frac{m1m2}{m1+m2} R^2 $$\n",
    "\n",
    "assuming integral can be used\n",
    "$$q_\\text{rot} = \\int_0^\\infty(2J+1)exp\\left( \\frac{-BJ(J+1)}{kT} \\right)dJ = \\frac{kT}{B}$$\n",
    "\n",
    "rotational temperature is defined as\n",
    "$$\\theta_\\text{rot} = \\frac{B}{k}$$\n",
    "and\n",
    "$$q_\\text{rot} = \\frac{T}{\\sigma \\theta_\\text{rot}}$$\n",
    "\n",
    "Notice $\\sigma$, the symmetry number"
   ]
  },
  {
   "cell_type": "code",
   "execution_count": 5,
   "metadata": {},
   "outputs": [
    {
     "name": "stdout",
     "output_type": "stream",
     "text": [
      "theta_rot: 2.876258992805756 K\n",
      "q_rot: 51.803401700850415\n"
     ]
    }
   ],
   "source": [
    "# (b)\n",
    "# N2 molecule\n",
    "B = 1.999 # cm^-1\n",
    "k = 0.6950 # cm^-1K^-1\n",
    "T = 298\n",
    "\n",
    "theta_rot = B / k # K\n",
    "print(\"theta_rot: {} K\".format(theta_rot))\n",
    "\n",
    "q_rot = T / (2 * theta_rot)\n",
    "print(\"q_rot: {}\".format(q_rot))"
   ]
  },
  {
   "cell_type": "markdown",
   "metadata": {
    "collapsed": true
   },
   "source": [
    "### 9\n",
    "$$q'_{vib} \\ vs. \\ q_\\text{vib}$$\n",
    "Key point:  \n",
    "$$\\frac{1}{2}h\\nu$$"
   ]
  },
  {
   "cell_type": "code",
   "execution_count": null,
   "metadata": {
    "collapsed": true
   },
   "outputs": [],
   "source": []
  }
 ],
 "metadata": {
  "kernelspec": {
   "display_name": "Python 3",
   "language": "python",
   "name": "python3"
  },
  "language_info": {
   "codemirror_mode": {
    "name": "ipython",
    "version": 3
   },
   "file_extension": ".py",
   "mimetype": "text/x-python",
   "name": "python",
   "nbconvert_exporter": "python",
   "pygments_lexer": "ipython3",
   "version": "3.6.3"
  }
 },
 "nbformat": 4,
 "nbformat_minor": 2
}
