{
 "cells": [
  {
   "cell_type": "markdown",
   "metadata": {},
   "source": [
    "# 2nd Physical Chemistry: Supervision1\n",
    "\n",
    "\n",
    "## Recap"
   ]
  },
  {
   "cell_type": "markdown",
   "metadata": {},
   "source": [
    "##  Work set problems"
   ]
  },
  {
   "cell_type": "markdown",
   "metadata": {},
   "source": [
    "### Useful data\n",
    "\n",
    "$ \\text{Gas constant}, R = 8.3145 JK^{−1}mol^{−1}$  \n",
    "$ 1 \\ \\text{atmosphere} = 1.01325 \\times 10^5 N m^{−2} (or \\ Pa) = 760 mmHg$  \n",
    "$ 1 \\ Torr = 1 mmHg = 133.322 N m^{−2} ; \\ 1 bar = 10^5 N m^{−2} ;  0 °C= 273.15 K$  \n",
    "$ \\text{Avogadro's constant}, N_A= 6.022 \\times 10^{23} mol^{−1} ; \\ 1 amu = 1.66056 \\times 10^{−27} kg$  \n",
    "$ \\text{Boltzmann's constant}, k = 1.38066 \\times 10^{−23} J K^{−1}$  \n",
    "$ \\text{Faraday constant}, F = 96485 C mol^{−1}$  \n"
   ]
  },
  {
   "cell_type": "code",
   "execution_count": 23,
   "metadata": {},
   "outputs": [],
   "source": [
    "# Constants\n",
    "R = 8.3145 # JK^(-1)mol^(-1)\n",
    "atm = 1.01325e5 # Pa\n",
    "NA = 6.022e23 #mol^(-1)"
   ]
  },
  {
   "cell_type": "markdown",
   "metadata": {},
   "source": [
    "### 1\n",
    "(a)  \n",
    "$$ pV = nRT $$  \n",
    "\n",
    "(b)  \n",
    "$$ m_{\\text{gas}} = 1.3447g$$  \n",
    "\n",
    "$$ T = (100 + 273.15) K $$  \n",
    "$$ p = \\frac{750mmHg}{760mmHg} \\times 1.01325 \\times 10^5 Pa$$  \n",
    "$$ V = 535.0 cm^{-3} = 535.0 * 10^(-6) m^{-3} $$\n",
    "$$ n = \\frac{pV}{RT} = \\frac{\\frac{750mmHg}{760mmHg} \\times 1.01325 \\times 10^5 Pa \\times 535.0 \\times 10^{-6} m^{3}}{8.314J \\cdot K^{-1} \\cdot mol^{-1} \\times(100 + 273.15) K} $$\n"
   ]
  },
  {
   "cell_type": "code",
   "execution_count": 24,
   "metadata": {},
   "outputs": [
    {
     "name": "stdout",
     "output_type": "stream",
     "text": [
      "(a)\n",
      "V = 0.022414070318282752 m^3\n",
      "(b)\n",
      "T = 373.15 K, V = 0.000535 m^3, p = 99991.77631578947 Pa\n",
      "n = 0.017242430413097216 mol, M = 77.98784555213146 g/mol\n"
     ]
    }
   ],
   "source": [
    "# (a)\n",
    "print(\"(a)\")\n",
    "V = (1 * R * 273.15) / (1 * atm)\n",
    "print(\"V = {} m^3\".format(V))\n",
    "\n",
    "# (b)\n",
    "print(\"(b)\")\n",
    "# for gas\n",
    "m = 1.3447\n",
    "T = 100 + 273.15\n",
    "V = 535.0 * 1e-6\n",
    "p = (750/760) * atm\n",
    "n = (p * V) / (R * T)\n",
    "M = m / n\n",
    "print(\"T = {} K, V = {} m^3, p = {} Pa\".format(T, V, p))\n",
    "print(\"n = {} mol, M = {} g/mol\".format(n, M))"
   ]
  },
  {
   "cell_type": "markdown",
   "metadata": {},
   "source": [
    "### 2\n",
    "\n",
    "\n"
   ]
  },
  {
   "cell_type": "code",
   "execution_count": null,
   "metadata": {},
   "outputs": [],
   "source": []
  }
 ],
 "metadata": {
  "kernelspec": {
   "display_name": "Python 3",
   "language": "python",
   "name": "python3"
  },
  "language_info": {
   "codemirror_mode": {
    "name": "ipython",
    "version": 3
   },
   "file_extension": ".py",
   "mimetype": "text/x-python",
   "name": "python",
   "nbconvert_exporter": "python",
   "pygments_lexer": "ipython3",
   "version": "3.7.2"
  }
 },
 "nbformat": 4,
 "nbformat_minor": 2
}
