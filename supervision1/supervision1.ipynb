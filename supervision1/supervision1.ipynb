{
 "cells": [
  {
   "cell_type": "markdown",
   "metadata": {},
   "source": [
    "# 2nd year Physical Chemistry, Xiamen University\n",
    "\n",
    "# Supervision1: Thermodynamics\n",
    "\n"
   ]
  },
  {
   "cell_type": "markdown",
   "metadata": {},
   "source": [
    "\n",
    "##  Work set problems\n"
   ]
  },
  {
   "cell_type": "markdown",
   "metadata": {},
   "source": [
    "### Useful data\n",
    "\n",
    "$ \\text{Gas constant}, R = 8.3145 \\ J \\cdot K^{−1} \\cdot mol^{−1}$  \n",
    "$ 1 \\ \\text{atmosphere} = 1.01325 \\times 10^5 \\ N \\cdot m^{−2} (or \\ Pa) = 760 \\ mmHg$  \n",
    "$ 1 \\ Torr = 1 \\ mmHg = 133.322 \\ N \\cdot m^{−2} ; \\ 1 \\ bar = 10^5 \\ N \\cdot m^{−2} ; \\ 0 °C= 273.15 \\ K$  \n",
    "$ \\text{Avogadro's constant}, \\ N_A= 6.022 \\times 10^{23} \\ mol^{−1} ; \\ 1 amu = 1.66056 \\times 10^{−27} \\ kg$  \n",
    "$ \\text{Boltzmann's constant}, \\ k = 1.38066 \\times 10^{−23} J \\cdot K^{−1}$  \n",
    "$ \\text{Faraday constant}, \\ F = 96485 \\ C \\cdot mol^{−1}$  \n"
   ]
  },
  {
   "cell_type": "code",
   "execution_count": 11,
   "metadata": {
    "collapsed": true
   },
   "outputs": [],
   "source": [
    "from math import log\n",
    "# Constants\n",
    "R = 8.3145 # JK^(-1)mol^(-1)\n",
    "atm = 1.01325e5 # Pa\n",
    "NA = 6.022e23 # mol^(-1)"
   ]
  },
  {
   "cell_type": "markdown",
   "metadata": {},
   "source": [
    "### 1\n",
    "#### (a)  \n",
    "$$ pV = nRT $$  \n",
    "\n",
    "#### (b)  \n",
    "$$ m_{\\text{gas}} = 1.3447g$$  \n",
    "\n",
    "$$ n = \\frac{pV}{RT} = \\frac{\\frac{750.0mmHg}{760mmHg} \\times 1.01325 \\times 10^5 Pa \\times 535.0 \\times 10^{-6} m^{3}}{8.314J \\cdot K^{-1} \\cdot mol^{-1} \\times(100 + 273.15) K} = 0.01724 \\ mol$$\n",
    "\n",
    "$$ M = \\frac{m}{n} = \\frac{1.3447g}{0.01724mol} = 77.99 \\ g \\cdot mol^{-1}$$\n"
   ]
  },
  {
   "cell_type": "code",
   "execution_count": 2,
   "metadata": {},
   "outputs": [
    {
     "name": "stdout",
     "output_type": "stream",
     "text": [
      "(a)\n",
      "V = 0.022414070318282752 m^3\n",
      "(b)\n",
      "T = 373.15 K, V = 0.000535 m^3, p = 99991.77631578947 Pa\n",
      "n = 0.017242430413097216 mol, M = 77.98784555213146 g/mol\n"
     ]
    }
   ],
   "source": [
    "# (a)\n",
    "print(\"(a)\")\n",
    "V = (1 * R * 273.15) / (1 * atm)\n",
    "print(\"V = {} m^3\".format(V))\n",
    "\n",
    "# (b)\n",
    "print(\"(b)\")\n",
    "# for gas\n",
    "m = 1.3447\n",
    "T = 100 + 273.15\n",
    "V = 535.0e-6\n",
    "p = (750/760) * atm\n",
    "n = (p * V) / (R * T)\n",
    "M = m / n\n",
    "print(\"T = {} K, V = {} m^3, p = {} Pa\".format(T, V, p))\n",
    "print(\"n = {} mol, M = {} g/mol\".format(n, M))"
   ]
  },
  {
   "cell_type": "markdown",
   "metadata": {},
   "source": [
    "### 2\n",
    "#### (a)\n",
    "$$ \\delta w' = p_{ext}dV $$\n",
    "why $p_{ext}$?  \n",
    "For reversible and isothermal process:\n",
    "$$ p_{ext} = p $$\n",
    "$$ \\delta w' = p_{ext}dV = pdV$$\n",
    "$$ w' = \\int_{V_i}^{V_F} pdV = \\int_{V_i}^{V_F} \\frac{nRT}{V} dV = nRT\\ln(\\frac{V_f}{V_i})$$\n",
    "\n",
    "#### (b)\n",
    "$$ pV = nRT $$\n",
    "#### (c)\n",
    "$$ p_{\\text{gas}} \\ \\text{v.s.} \\ p_{\\text{ext}} $$\n",
    "#### (d)\n",
    "$$ V_f = \\frac{n_fR_fT_f}{p_f} = \\frac{nRT}{p_{ext}} $$\n",
    "$$ w' = p_{{ext}}\\Delta V $$\n",
    "#### (e)\n",
    "$$\\Delta U = 0$$\n",
    "\n",
    "#### (f)\n",
    "$$ w' = -w = \\int_{V_i}^{V_F} pdV = \\int_{V_i}^{V_F} \\frac{nRT}{V} dV = nRT\\ln(\\frac{V_f}{V_i})$$\n",
    "\n",
    "\n",
    "\n"
   ]
  },
  {
   "cell_type": "code",
   "execution_count": 30,
   "metadata": {},
   "outputs": [
    {
     "name": "stdout",
     "output_type": "stream",
     "text": [
      "(b)\n",
      "p = 991088.4 Pa = 9.781282013323464 atm\n",
      "(d)\n",
      "V_f = 9.781282013323466e-05 Pa\n",
      "w = -8.897634000000002 J\n",
      "(f)\n",
      "w_rev = -22.601479192143078 J\n"
     ]
    }
   ],
   "source": [
    "# (b)\n",
    "print(\"(b)\")\n",
    "n = 4e-3\n",
    "T = 298\n",
    "V = 10e-6\n",
    "p = (n * R * T) / V\n",
    "print(\"p = {} Pa = {} atm\".format(p, p / atm))\n",
    "\n",
    "# (d)\n",
    "print(\"(d)\")\n",
    "V_i = V\n",
    "p_f = p_ext = 1 * atm\n",
    "V_f = (n * R * T)/p_2\n",
    "print(\"V_f = {} Pa\".format(V_f))\n",
    "w = - p_ext * (V_f - V_i)\n",
    "print(\"w = {} J\".format(w))\n",
    "\n",
    "# (f)\n",
    "\n",
    "print(\"(f)\")\n",
    "w_rev = - n * R * T * log(V_f / V_i)\n",
    "print(\"w_rev = {} J\".format(w_rev))\n",
    "\n"
   ]
  },
  {
   "cell_type": "markdown",
   "metadata": {},
   "source": [
    "### 4\n",
    "#### (a)\n",
    "definition of entropy:\n",
    "$$ dS = \\delta q_{rev} / T $$\n",
    "for surroundings:  \n",
    "$$ \\delta S_{surr} = \\frac{q_{surr}}{T_{surr}} = \\frac{-q_{sys}}{T_{sys}} $$\n",
    "#### (b)\n",
    "$$\\Delta S_{sys}$$\n",
    "#### (c)\n",
    "$$\\Delta S_{univ} = \\Delta S_{sys} + \\Delta S_{surr}$$"
   ]
  },
  {
   "cell_type": "code",
   "execution_count": 36,
   "metadata": {},
   "outputs": [
    {
     "name": "stdout",
     "output_type": "stream",
     "text": [
      "(a)\n",
      "irr: deltaS = -0.029857832214765106, rev: deltaS = -0.0758438899065204\n",
      "(c)\n",
      "delta_S_univ_irr = 0.04598605769175529\n"
     ]
    }
   ],
   "source": [
    "# (a)\n",
    "print(\"(a)\")\n",
    "q_irr = -w\n",
    "q_rev = -w_rev\n",
    "delta_S_surr_rev = -q_rev / T\n",
    "delta_S_surr_irr = -q_irr / T\n",
    "\n",
    "print(\"irr: deltaS = {}, rev: deltaS = {}\".format(delta_S_surr_irr, delta_S_surr_rev))\n",
    "\n",
    "# (c)\n",
    "print(\"(c)\")\n",
    "delta_S_sys_irr = -delta_S_surr_rev\n",
    "delta_S_univ_irr = (delta_S_sys_irr + delta_S_surr_irr)\n",
    "print(\"delta_S_univ_irr = {}\".format(delta_S_univ_irr))\n"
   ]
  },
  {
   "cell_type": "markdown",
   "metadata": {
    "collapsed": true
   },
   "source": [
    "### 6\n",
    "#### (a)\n",
    "\n",
    "$$\\Delta U = q + w = q - p\\Delta V$$\n",
    "$$nC_V = \\frac{\\delta q_V}{dT} = \\left( \\frac{dU}{dT} \\right) _V$$\n",
    "\n",
    "#### (b)\n",
    "$$C_p \\ v.s. \\ C_V$$\n",
    "for gas?  \n",
    "for ideal gas?"
   ]
  },
  {
   "cell_type": "markdown",
   "metadata": {},
   "source": [
    "### 8\n",
    "#### (a)\n",
    "$$dS = \\delta q_{rev}/T$$\n",
    "$$dU = \\delta q - pdV = TdS - pdV$$\n",
    "Notice all of them are state functions, so 'reversible' doesn't matter.  \n",
    "\n",
    "$$H = U + pV$$\n",
    "$$dH = TdS + Vdp$$\n",
    "for constant presure\n",
    "$$dS_m^0 = dH/T = C_{p} dT/T$$\n",
    "$$S_m^0(T2) - S_m^0(T1) = C_{p} \\ln \\frac{T_2}{T_1}$$\n",
    "\n",
    "#### (c)\n",
    "$$C_p(T) = \\alpha + \\beta T$$"
   ]
  },
  {
   "cell_type": "code",
   "execution_count": 40,
   "metadata": {},
   "outputs": [
    {
     "name": "stdout",
     "output_type": "stream",
     "text": [
      "(b)\n",
      "S_T2 = 200.19394800773728 JK^-1mol^-1\n",
      "(d)\n",
      "S_T2 = 200.24686646670477 JK^-1mol^-1\n"
     ]
    }
   ],
   "source": [
    "# (b)\n",
    "print(\"(b)\")\n",
    "T1 = 298\n",
    "T2 = 398\n",
    "S_T1 = 191.6\n",
    "C_p = 29.7\n",
    "\n",
    "S_T2 = S_T1 + C_p * log(T2 / T1)\n",
    "print(\"S_T2 = {} JK^-1mol^-1\".format(S_T2))\n",
    "\n",
    "# (d)\n",
    "print(\"(d)\")\n",
    "alpha = 28.58\n",
    "beta = 3.77e-3\n",
    "S_T2 = S_T1 + alpha * log(T2 / T1) + beta * (T2 - T1)\n",
    "print(\"S_T2 = {} JK^-1mol^-1\".format(S_T2))"
   ]
  },
  {
   "cell_type": "code",
   "execution_count": 25,
   "metadata": {},
   "outputs": [
    {
     "data": {
      "text/plain": [
       "[<matplotlib.lines.Line2D at 0x2490f95df98>]"
      ]
     },
     "execution_count": 25,
     "metadata": {},
     "output_type": "execute_result"
    },
    {
     "data": {
      "image/png": "[encoded data removed]",
      "text/plain": [
       "<matplotlib.figure.Figure at 0x2490f9b69e8>"
      ]
     },
     "metadata": {},
     "output_type": "display_data"
    }
   ],
   "source": [
    "# Boltzman distribution\n",
    "# n_i = n_0*exp(-epsilon_i/(kT))\n",
    "%matplotlib inline\n",
    "\n",
    "import matplotlib.pyplot as plt\n",
    "import numpy as np\n",
    "\n",
    "k = 1.38e-23 # J/K\n",
    "T = 298 # K\n",
    "epsilon_i = np.arange(0, 5e-20, 1e-21)\n",
    "n = np.exp(-epsilon_i / (k * T))\n",
    "plt.plot(epsilon_i, n)\n",
    "\n",
    "T2 = 1000\n",
    "n_t2 = np.exp(-epsilon_i / (k * T2))\n",
    "plt.plot(epsilon_i, n_t2)\n"
   ]
  },
  {
   "cell_type": "markdown",
   "metadata": {
    "collapsed": true
   },
   "source": [
    "## Questions\n",
    "\n",
    "Here in the part, questions are summarized from the supervision. Questions are mostly proposed by students themselves and I select those where students did not reach an answer through their discussions.  \n",
    "This part is of great importance for it reveals students understanding of the course, it may guide the future improvement of the lecture.  \n",
    "Thanks Haowen Zhang, Shuming Xing, Shimian Li and Zhilin Song for their questions and discussions.  \n",
    "\n",
    "1. $C_V$  \n",
    "    As $C_V$ can be given by $C_V = \\left(\\frac{\\partial U}{\\partial T}\\right)_V$, where both U and T are state functions. So is $C_V$ also a state function?  \n",
    "    If so, $C_V$'s value does not depend on the process, can $C_V$ be written as $\\frac{dU}{dT}$ ?  \n",
    "    *\\# Partial_derivative \\# State_function*  \n",
    "\n",
    "2. Pressure p & Work W  \n",
    "    In both the case of ideal gas expansion and compression, the work is done are calculated by $p_\\text{ext}dV$, why?  \n",
    "    For an irreversible process, where $p_\\text{gas} \\neq p_\\text{ext}$. So what is the $(p_\\text{gas} - p_\\text{ext})dV$ and where does this part go?  \n",
    "    How to understand the behaviour of piston during the expansion process?  \n",
    "    *\\# Ideal_gas_expansion \\# Work*  \n",
    "\n"
   ]
  },
  {
   "cell_type": "code",
   "execution_count": null,
   "metadata": {
    "collapsed": true
   },
   "outputs": [],
   "source": []
  }
 ],
 "metadata": {
  "kernelspec": {
   "display_name": "Python 3",
   "language": "python",
   "name": "python3"
  },
  "language_info": {
   "codemirror_mode": {
    "name": "ipython",
    "version": 3
   },
   "file_extension": ".py",
   "mimetype": "text/x-python",
   "name": "python",
   "nbconvert_exporter": "python",
   "pygments_lexer": "ipython3",
   "version": "3.6.3"
  }
 },
 "nbformat": 4,
 "nbformat_minor": 2
}
