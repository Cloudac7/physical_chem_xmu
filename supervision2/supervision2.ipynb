{
 "cells": [
  {
   "cell_type": "markdown",
   "metadata": {},
   "source": [
    "The contribution of solid in Gibbs energy?(no concentration change)\n",
    "\n",
    "$\\Delta G$ when start from the pure substance, $RT\\ln [p]/[R] = -\\infty$"
   ]
  },
  {
   "cell_type": "markdown",
   "metadata": {
    "collapsed": true
   },
   "source": [
    "# Supervision 2: Thermodynamics\n",
    "\n",
    "## Problem set\n",
    "\n",
    "### 9, 10, 11, 15, 18, 19, 22, 23, 24\n",
    "\n"
   ]
  },
  {
   "cell_type": "code",
   "execution_count": 1,
   "metadata": {
    "collapsed": true
   },
   "outputs": [],
   "source": [
    "import math\n",
    "# constants\n",
    "R = 8.3145"
   ]
  },
  {
   "cell_type": "markdown",
   "metadata": {},
   "source": [
    "### 9\n",
    "$$\\Delta G = \\Delta H -T\\Delta S$$\n",
    "\n",
    "<font color='red'>All passed</font>"
   ]
  },
  {
   "cell_type": "code",
   "execution_count": 2,
   "metadata": {},
   "outputs": [
    {
     "name": "stdout",
     "output_type": "stream",
     "text": [
      "delta G1 = 109.29999999999927, delta G2 = -110.70000000000073\n",
      "T_eq = 273.1818181818182\n"
     ]
    }
   ],
   "source": [
    "# (a)\n",
    "delta_S = -22\n",
    "delta_H = -6010\n",
    "T1 = 5 + 273.15\n",
    "T2 = -5 + 273.15\n",
    "delta_G1 = delta_H - T1 * delta_S\n",
    "delta_G2 = delta_H - T2 * delta_S\n",
    "print(\"delta G1 = {}, delta G2 = {}\".format(delta_G1, delta_G2))\n",
    "\n",
    "# (b)\n",
    "T_eq = delta_H / delta_S\n",
    "print(\"T_eq = {}\".format(T_eq))"
   ]
  },
  {
   "cell_type": "markdown",
   "metadata": {},
   "source": [
    "### 10\n",
    "<font color='red'>Song</font>\n",
    "#### (a)\n",
    "G(V)\n",
    "\n",
    "$$pV = nRT$$\n",
    "$$\\frac{dp}{dV} = -nRT\\frac{1}{V^2}$$\n",
    "$$dG=Vdp=-nRT\\frac{1}{V}dV \\ (dT = 0)$$\n",
    "\n",
    "S(V)\n",
    "$$dS = - \\frac{dG}{dT}$$\n",
    "##### Another way\n",
    "$$\\frac{\\partial ^2G}{\\partial p \\partial T} = \\frac{\\partial ^2G}{\\partial T \\partial p} $$\n",
    "$$(\\frac{\\partial V}{\\partial T})_p = -(\\frac{\\partial S}{\\partial p})_T $$\n",
    "\n",
    "#### (b)\n"
   ]
  },
  {
   "cell_type": "markdown",
   "metadata": {},
   "source": [
    "### 11\n",
    "<font color='red'>All passed</font>  \n",
    "\n",
    "#### (a)\n",
    "\\begin{align}\n",
    "\\Delta G_\\text{mix} & = n_ART\\ln(x_A) + n_BRT\\ln(x_B) \\\\\n",
    "& = x_An_\\text{tot}RT\\ln(x_A) + x_Bn_\\text{tot}RT\\ln(x_B) \\\\\n",
    "& = n_\\text{tot}RT[x_A\\ln(x_A) + x_B\\ln(x_B)]\n",
    "\\end{align}\n",
    "\n",
    "$$\\Delta G_\\text{mix}(x_A) = n_\\text{tot}RT[x_A\\ln(x_A) + (1-x_A)\\ln(1-x_A)]$$\n",
    "\n",
    "#### (b)\n",
    "$dp = 0$\n",
    "$$\\Delta S_\\text{mix} = \\left( \\frac{\\partial \\Delta G_\\text{mix}}{\\partial T} \\right)_{p,n} = n_\\text{tot}R[x_A\\ln(x_A) + (1-x_A)\\ln(1-x_A)]$$\n",
    "$$\\Delta H = \\Delta G + T\\Delta S$$\n",
    "<font color='red'>delta_H = 0, explain?</font>"
   ]
  },
  {
   "cell_type": "code",
   "execution_count": 3,
   "metadata": {},
   "outputs": [
    {
     "data": {
      "text/plain": [
       "Text(0, 0.5, 'Delta G_mix')"
      ]
     },
     "execution_count": 3,
     "metadata": {},
     "output_type": "execute_result"
    },
    {
     "data": {
      "image/png": "[encoded data removed]",
      "text/plain": [
       "<Figure size 432x288 with 1 Axes>"
      ]
     },
     "metadata": {},
     "output_type": "display_data"
    }
   ],
   "source": [
    "from math import log\n",
    "%matplotlib inline\n",
    "\n",
    "import matplotlib.pyplot as plt\n",
    "import numpy as np\n",
    "\n",
    "T1 = 298\n",
    "n = 1\n",
    "x_A = np.arange(0.001, 1, 0.01)\n",
    "delta_G1 = n * R * T1 * (x_A * np.log(x_A) + (1 - x_A) * np.log(1 - x_A))\n",
    "plt.plot(x_A, delta_G1)\n",
    "\n",
    "T2 = 50\n",
    "delta_G2 = n * R * T2 * (x_A * np.log(x_A) + (1 - x_A) * np.log(1 - x_A))\n",
    "plt.plot(x_A, delta_G2)\n",
    "\n",
    "plt.xlabel('x_A')\n",
    "plt.ylabel('Delta G_mix')"
   ]
  },
  {
   "cell_type": "markdown",
   "metadata": {},
   "source": [
    "### 15\n",
    "<font color='red'>All passed</font>  \n",
    "<font color='red'>Song, equation</font>  \n",
    "#### (a)\n",
    "$$\\frac{1}{2}N_2 + \\frac{3}{2}H_2\\rightleftarrows NH_3$$\n",
    "#### (b)\n",
    "$$\\Delta_rC_p^\\circ = A + BT$$\n",
    "#### (c)\n",
    "\\begin{align}\n",
    "\\Delta_rH^\\circ(T_2) & = \\Delta_rH^\\circ(T_1) + \\int_{T_1}^{T_2} \\Delta_rC_p^\\circ (T) dT\\\\\n",
    "& = \\Delta_rH^\\circ(T_1) + A(T_2 - T_1) + \\frac{B(T_2^2-T_1^2)}{2}\n",
    "\\end{align}\n",
    "#### (e)\n",
    "\\begin{align}\n",
    "\\Delta_rS^\\circ(T_2) & = \\Delta_rS^\\circ(T_1) + \\int_{T_1}^{T_2} \\frac{\\Delta_rC_p^\\circ (T)}{T} dT\\\\\n",
    "& = \\Delta_rS^\\circ(T_1) + A(\\ln\\frac{T_2}{T_1}) + B(T_2 - T_1)\n",
    "\\end{align}"
   ]
  },
  {
   "cell_type": "code",
   "execution_count": 4,
   "metadata": {},
   "outputs": [
    {
     "name": "stdout",
     "output_type": "stream",
     "text": [
      "A = -25.46 J/(Kmol), B = 0.018325 J/(K^2mol)\n",
      "delta_H_f_2 = -55624.08665 J/mol = -55.624086649999995 kJ/mol\n",
      "delta_S_1 = -99.34999999999998 J/(Kmol)\n",
      "delta_S_2 = -117.3092992364576 J/(Kmol)\n"
     ]
    }
   ],
   "source": [
    "# (b)\n",
    "alpha_N2 = 28.58\n",
    "alpha_H2 = 27.28\n",
    "alpha_NH3 = 29.75\n",
    "beta_N2 = 3.77e-3\n",
    "beta_H2 = 3.26e-3\n",
    "beta_NH3 = 25.1e-3\n",
    "\n",
    "A = alpha_NH3 - 1/2 * alpha_N2 - 3/2 * alpha_H2\n",
    "B = beta_NH3 - 1/2 * beta_N2 - 3/2 * beta_H2\n",
    "print(\"A = {} J/(Kmol), B = {} J/(K^2mol)\".format(A, B))\n",
    "\n",
    "# (d)\n",
    "T_1 = 298\n",
    "T_2 = 1000\n",
    "delta_H_f_1 = -46.1\n",
    "delta_H_f_2 = delta_H_f_1 * 1000 + A * (T_2 - T_1) + B * (T_2**2 - T_1**2) / 2\n",
    "print(\"delta_H_f_2 = {} J/mol = {} kJ/mol\".format(delta_H_f_2, delta_H_f_2 / 1000))\n",
    "\n",
    "# (e)\n",
    "delta_S_1 = 192.5 * 1 - 130.7 * 3/2 - 191.6 * 1/2\n",
    "delta_S_2 = delta_S_1 + A * log(T_2 / T_1) + B * (T_2 - T_1)\n",
    "print(\"delta_S_1 = {} J/(Kmol)\\ndelta_S_2 = {} J/(Kmol)\".format(delta_S_1, delta_S_2))"
   ]
  },
  {
   "cell_type": "markdown",
   "metadata": {},
   "source": [
    "### 18\n",
    "$$\\ln K = \\frac{-\\Delta_r H^\\circ}{RT} + \\frac{\\Delta_r S ^\\circ}{R}$$\n",
    "approximations"
   ]
  },
  {
   "cell_type": "code",
   "execution_count": 5,
   "metadata": {},
   "outputs": [
    {
     "name": "stdout",
     "output_type": "stream",
     "text": [
      "k = -12903.506899547112, b = 16.25536855674547\n",
      "delta_H = 107286.20811628447 J/mol, delta_S = 135.15526186506023 J/(Kmol)\n",
      "delta_G(700K) = 12677.524810742309 J/mol\n"
     ]
    },
    {
     "data": {
      "image/png": "[encoded data removed]",
      "text/plain": [
       "<Figure size 432x288 with 1 Axes>"
      ]
     },
     "metadata": {},
     "output_type": "display_data"
    }
   ],
   "source": [
    "T = np.array([635.7, 670.4, 686.0, 722.2, 760.2])\n",
    "K = np.array([0.01950, 0.04414, 0.07575, 0.1971, 0.5183])\n",
    "X = 1/T\n",
    "Y = np.log(K)\n",
    "k, b = np.polyfit(X, Y, 1)\n",
    "plt.plot(X, Y, 'o')\n",
    "plt.plot(X, k * X + b, '-')\n",
    "delta_H = - k * R\n",
    "delta_S = b * R\n",
    "print(\"k = {}, b = {}\".format(k, b))\n",
    "print(\"delta_H = {} J/mol, delta_S = {} J/(Kmol)\".format(delta_H, delta_S))\n",
    "\n",
    "lnK = k * (1/700) + b\n",
    "delta_G = - R * 700 * lnK\n",
    "print(\"delta_G(700K) = {} J/mol\".format(delta_G))\n",
    "# delta_S = (delta_H - delta_G) / 700\n"
   ]
  },
  {
   "cell_type": "markdown",
   "metadata": {},
   "source": [
    "### 19\n",
    "#### (a)\n",
    "$$\\ln K_p(T_2) - \\ln K_p(T_1) = -\\frac{\\Delta_rH^\\circ}{R}\\left(\\frac{1}{T_2} - \\frac{1}{T_1}\\right)$$\n",
    "#### (b)\n",
    "$$\\Delta_rG^\\circ = -RT\\ln K = \\Delta_rH^\\circ - T\\Delta_rS^\\circ$$  \n",
    "<font color='red'>Approximation, Xing</font>  "
   ]
  },
  {
   "cell_type": "code",
   "execution_count": 6,
   "metadata": {},
   "outputs": [
    {
     "name": "stdout",
     "output_type": "stream",
     "text": [
      "delta_H = -37523.84858192233 J/mol\n",
      "delta_G(298K) = -28618.225745062435 J/mol\n",
      "delta_S = -29.884640392147293 J/(Kmol)\n"
     ]
    }
   ],
   "source": [
    "# (b)\n",
    "K_1 = 1.038e5 # 298K\n",
    "K_2 = 1.094e4 # 350K\n",
    "T_1 = 298\n",
    "T_2 = 350\n",
    "delta_G = - R * T_1 * log(K_1) # 298K\n",
    "delta_H = -(log(K_2) - log(K_1)) * R / (1 / T_2 - 1 / T_1)\n",
    "delta_S = (delta_H - delta_G) / T_1\n",
    "print(\"delta_H = {} J/mol\\ndelta_G(298K) = {} J/mol\\ndelta_S = {} J/(Kmol)\".format(delta_H, delta_G, delta_S))\n"
   ]
  },
  {
   "cell_type": "markdown",
   "metadata": {},
   "source": [
    "### 22\n",
    "#### (a)\n",
    "Gibbs-Helmholtz Derivation\n",
    "#### (b)\n",
    "Derivation\n",
    "$$\\frac{d\\ln K}{dT} = \\frac{\\Delta_rH^\\circ}{RT^2}$$\n",
    "#### (c)\n",
    "$$\\ln K = \\frac{11800}{T} - 25.58 - 1.25\\ln T$$\n",
    "$$\\frac{d\\ln K}{dT} = \\frac{-11800 - 1.25T}{T^2}$$\n",
    "$$\\Delta_rH^\\circ = R(-11800 - 1.25T)$$\n",
    "#### (d)\n",
    "$$C_p(T) = \\left(\\frac{\\partial H}{\\partial T}\\right)_p$$"
   ]
  },
  {
   "cell_type": "code",
   "execution_count": 7,
   "metadata": {},
   "outputs": [
    {
     "name": "stdout",
     "output_type": "stream",
     "text": [
      "delta_H = -103307.6625 J/mol\n",
      "delta_G(298K) = 40525.954396457055 J/mol\n",
      "delta_S = -287.66723379291415 J/(Kmol)\n",
      "lnK = -9.748260123027736\n"
     ]
    }
   ],
   "source": [
    "T = 500\n",
    "delta_H = R * (-11800 - 1.25 * T) # 500K\n",
    "K = math.exp(11800/T - 25.58 - 1.25 * log(T))\n",
    "delta_G = - R * T * log(K)\n",
    "delta_S = (delta_H - delta_G) / T\n",
    "\n",
    "print(\"delta_H = {} J/mol\\ndelta_G(298K) = {} J/mol\\ndelta_S = {} J/(Kmol)\".format(delta_H, delta_G, delta_S))\n",
    "print(\"lnK = {}\".format(log(K)))"
   ]
  },
  {
   "cell_type": "markdown",
   "metadata": {},
   "source": [
    "### 23\n",
    "#### (a)\n",
    "Derivation\n",
    "$$\\Delta_rG^\\circ = -RT\\ln K$$\n",
    "#### (b)\n",
    "$$\\frac{d\\ln K}{dT} = \\frac{\\Delta_rH^\\circ}{RT^2}$$\n",
    "$$\\Delta_rH^\\circ = R(2695.2 - 0.03085T^2)$$\n",
    "$$\\Delta_r C_p^\\circ(T) = \\frac{d\\Delta_r H^\\circ}{dT} = -2\\times 0.03085RT$$"
   ]
  },
  {
   "cell_type": "code",
   "execution_count": 8,
   "metadata": {},
   "outputs": [
    {
     "name": "stdout",
     "output_type": "stream",
     "text": [
      "delta_H = -675.9688500000016 J/mol\n",
      "delta_G(300K) = 27316.375155000005 J/mol\n",
      "delta_S = -93.30781335000002 J/(Kmol)\n",
      "K = 1.7535204711310285e-05\n",
      "delta_C_p = -153.901395 J/(Kmol)\n"
     ]
    }
   ],
   "source": [
    "# (b)\n",
    "T = 300\n",
    "delta_H = R * (2695.2 - 0.03085 * T**2)\n",
    "K = math.exp(-2695.2 / T + 7.2877 - 0.03085 * T)\n",
    "delta_G = - R * T * log(K)\n",
    "delta_S = (delta_H - delta_G) / T\n",
    "delta_C_p = -2 * 0.03085 * R * T\n",
    "print(\"delta_H = {} J/mol\\ndelta_G(300K) = {} J/mol\\ndelta_S = {} J/(Kmol)\".format(delta_H, delta_G, delta_S))\n",
    "print(\"K = {}\".format(K))\n",
    "print(\"delta_C_p = {} J/(Kmol)\".format(delta_C_p))"
   ]
  },
  {
   "cell_type": "markdown",
   "metadata": {},
   "source": [
    "### 24\n",
    "Reversible & dp = 0\n",
    "$$\\Delta S = \\int_{T_1}^{T_2}\\frac{nC_{p,m}}{T}$$\n",
    "\n",
    "$$\\Delta S_\\text{surr} = \\frac{-q_\\text{sys}}{T_\\text{sys}}$$"
   ]
  },
  {
   "cell_type": "code",
   "execution_count": 9,
   "metadata": {},
   "outputs": [
    {
     "name": "stdout",
     "output_type": "stream",
     "text": [
      "delta_S_1 = 2.8100275544418047 J/K\n",
      "delta_S_2 = -22.065934065934066 J/K\n",
      "delta_S_3 = -1.404640599590826 J/K\n",
      "delta_S = -20.660547111083087 J/K, delta_H = -5647.4 J\n",
      "delta_S_surr = 21.47300380228137 J/K, delta_S_univ = 0.8124566911982818 J/K\n"
     ]
    }
   ],
   "source": [
    "C_p_ice = 37.64\n",
    "C_p_water = 75.30\n",
    "delta_H_fusion = 6.024e3 # 273K\n",
    "\n",
    "delta_H_1 = C_p_water * (273 - 263)\n",
    "delta_H_2 = -delta_H_fusion\n",
    "delta_H_3 = C_p_ice * (263 - 273)\n",
    "delta_H = delta_H_1 + delta_H_2 + delta_H_3\n",
    "\n",
    "delta_S_1 = C_p_water * log(273 / 263)\n",
    "delta_S_2 = delta_H_2 / 273\n",
    "delta_S_3 = C_p_ice * log(263 / 273)\n",
    "delta_S = delta_S_1 + delta_S_2 + delta_S_3\n",
    "\n",
    "print(\"delta_S_1 = {} J/K\\ndelta_S_2 = {} J/K\\ndelta_S_3 = {} J/K\".format(delta_S_1, delta_S_2, delta_S_3))\n",
    "print(\"delta_S = {} J/K, delta_H = {} J\".format(delta_S, delta_H))\n",
    "\n",
    "delta_S_sys = delta_S\n",
    "delta_S_surr = -delta_H / 263\n",
    "delta_S_univ = delta_S_sys + delta_S_surr\n",
    "print(\"delta_S_surr = {} J/K, delta_S_univ = {} J/K\".format(delta_S_surr, delta_S_univ))"
   ]
  },
  {
   "cell_type": "markdown",
   "metadata": {
    "collapsed": true
   },
   "source": [
    "# Questions\n",
    "\n",
    "1. Reversible process v.s. Quasi-static process  \n",
    "*\\# Reversible_process*\n",
    "2. T-S diagram\n",
    "As Carnot cycle can be demonstrated using T-S diagram, how to understand the cycle whose T-S diagram is not a square?  \n",
    "Is such process irreversble? If not, what is the irreversible cyclic process like in T-S diagram?  \n",
    "*\\# Reversible_process \\# T-S diagram*\n",
    "\n",
    "3. The second law\n"
   ]
  },
  {
   "cell_type": "code",
   "execution_count": null,
   "metadata": {
    "collapsed": true
   },
   "outputs": [],
   "source": []
  },
  {
   "cell_type": "code",
   "execution_count": null,
   "metadata": {
    "collapsed": true
   },
   "outputs": [],
   "source": []
  }
 ],
 "metadata": {
  "kernelspec": {
   "display_name": "Python 3",
   "language": "python",
   "name": "python3"
  },
  "language_info": {
   "codemirror_mode": {
    "name": "ipython",
    "version": 3
   },
   "file_extension": ".py",
   "mimetype": "text/x-python",
   "name": "python",
   "nbconvert_exporter": "python",
   "pygments_lexer": "ipython3",
   "version": "3.6.3"
  }
 },
 "nbformat": 4,
 "nbformat_minor": 2
}
